{
 "cells": [
  {
   "cell_type": "code",
   "execution_count": 4,
   "metadata": {},
   "outputs": [],
   "source": [
    "import logging\n",
    "# Some packages used by pvtrace are a little noisy\n",
    "logging.getLogger('trimesh').disabled = True\n",
    "logging.getLogger('shapely.geos').disabled = True\n",
    "from ipywidgets import interact\n",
    "from pvtrace import *\n",
    "import numpy as np\n",
    "\n"
   ]
  },
  {
   "cell_type": "code",
   "execution_count": 5,
   "metadata": {
    "pycharm": {
     "name": "#%%\n"
    }
   },
   "outputs": [],
   "source": [
    "def interact_ray(scene, vis):\n",
    "    ray_ids = []\n",
    "\n",
    "    def move_ray(x=0.0, y=0.0, z=0.0, theta=0.0, phi=0.0, nanometers=555.0):\n",
    "        # Clear old objects\n",
    "        [vis.remove_object(_id) for _id in ray_ids]\n",
    "\n",
    "        # Create new array with position from the interact UI\n",
    "        # ray = Ray(\n",
    "        #     position=(x, y, z),\n",
    "        #     direction=(\n",
    "        #         np.sin(np.radians(theta)) * np.cos(np.radians(phi)),\n",
    "        #         np.sin(np.radians(theta)) * np.sin(np.radians(phi)),\n",
    "        #         np.cos(np.radians(theta))\n",
    "        #     ),\n",
    "        #     wavelength=nanometers\n",
    "        # )\n",
    "\n",
    "        # Re-create the scene with the new ray but reuse the renderers\n",
    "        renderer = MeshcatRenderer(wireframe=True, open_browser=True)\n",
    "        renderer.render(scene)\n",
    "        for ray in scene.emit(60):\n",
    "            steps = photon_tracer.follow(scene, ray, maxsteps=10)\n",
    "            path, events = zip(*steps)\n",
    "            vis.render(scene)\n",
    "            renderer.add_ray_path(path)\n",
    "            # time.sleep(0.1)\n",
    "\n",
    "        # steps = photon_tracer.follow(scene, ray, maxsteps=100)\n",
    "        # path, events = zip(*steps)\n",
    "        # vis.render(scene)\n",
    "        #\n",
    "        # # Remove old rays; add new rays\n",
    "        # ray_ids.clear()\n",
    "        # ray_ids.extend(vis.add_ray_path(path))\n",
    "\n",
    "    return interact(\n",
    "        move_ray,\n",
    "        x=(-5, 5, 0.01),\n",
    "        y=(-5, 5, 0.01),\n",
    "        z=(-5, 5, 0.01),\n",
    "        theta=(0, 180, 1),\n",
    "        phi=(0, 360, 1),\n",
    "        nanometers=(300, 800, 1)\n",
    "    )\n",
    "\n",
    "\n",
    "def interact_beam(scene, vis):\n",
    "    ray_ids = []\n",
    "\n",
    "    def move_ray(x=0.0, y=0.0, z=0.0, theta=0.0, phi=0.0, nanometers=555.0):\n",
    "        # Clear old objects\n",
    "        [vis.remove_object(_id) for _id in ray_ids]\n",
    "\n",
    "        # Create new array with position from the interact UI\n",
    "        ray = Ray(\n",
    "            position=(x, y, z),\n",
    "            direction=(\n",
    "                np.sin(np.radians(theta)) * np.cos(np.radians(phi)),\n",
    "                np.sin(np.radians(theta)) * np.sin(np.radians(phi)),\n",
    "                np.cos(np.radians(theta))\n",
    "            ),\n",
    "            wavelength=nanometers\n",
    "        )\n",
    "\n",
    "        # Re-create the scene with the new ray but reuse the renderers\n",
    "        steps = photon_tracer.follow(scene, ray, maxsteps=50)\n",
    "        path, events = zip(*steps)\n",
    "        vis.render(scene)\n",
    "\n",
    "        # Remove old rays; add new rays\n",
    "        ray_ids.clear()\n",
    "        ray_ids.extend(vis.add_ray_path(path))\n",
    "\n",
    "    return interact(\n",
    "        move_ray,\n",
    "        x=(-5, 5, 0.01),\n",
    "        y=(-5, 5, 0.01),\n",
    "        z=(-5, 5, 0.01),\n",
    "        theta=(0, 180, 1),\n",
    "        phi=(0, 360, 1),\n",
    "        nanometers=(300, 800, 1)\n",
    "    )"
   ]
  },
  {
   "cell_type": "code",
   "execution_count": 6,
   "metadata": {
    "pycharm": {
     "name": "#%%\n"
    }
   },
   "outputs": [
    {
     "name": "stdout",
     "output_type": "stream",
     "text": [
      "You can open the visualizer by visiting the following URL:\n",
      "http://127.0.0.1:7002/static/\n"
     ]
    },
    {
     "data": {
      "text/plain": "interactive(children=(FloatSlider(value=0.0, description='x', max=5.0, min=-5.0, step=0.01), FloatSlider(value…",
      "application/vnd.jupyter.widget-view+json": {
       "version_major": 2,
       "version_minor": 0,
       "model_id": "659e29683fa64ffaa476dc6335c66961"
      }
     },
     "metadata": {},
     "output_type": "display_data"
    }
   ],
   "source": [
    "import functools\n",
    "def pv_sphere_test():\n",
    "    world = Node(\n",
    "        name=\"world (air)\",\n",
    "        geometry=Sphere(\n",
    "            radius=10.0,\n",
    "            material=Material(refractive_index=1.0),\n",
    "        )\n",
    "    )\n",
    "    sphere1 = Node(\n",
    "        name=\"sphere1 (glass)\",\n",
    "        geometry=Sphere(\n",
    "            radius=8.0,\n",
    "            material=Material(refractive_index=100,\n",
    "                              ),\n",
    "\n",
    "        ),\n",
    "        parent=world\n",
    "    )\n",
    "    # components=[\n",
    "    #     Scatterer(\n",
    "    #         coefficient=1.0,  # e.g. units: cm-1\n",
    "    #         quantum_yield=1.0\n",
    "    #    )\n",
    "    # ]\n",
    "    sphere1.translate((0.0, 0.0, 0.0))\n",
    "    a = 0.4\n",
    "    x_ar = np.linspace(-5*a, 5*a, 11)\n",
    "    y_ar = [-3*a, -2*a,-a, 0, a, 2*a, 3*a]\n",
    "    z_ar = [-3*a, -2*a,-a, 0, a, 2*a, 3*a]\n",
    "    for x in x_ar:\n",
    "        for y in y_ar:\n",
    "            for z in z_ar:\n",
    "                sphere2 = Node(\n",
    "                    name=f\"sphere: {x}, {y}, {z} (glass)\",\n",
    "                    geometry=Sphere(\n",
    "                        radius=a/2,\n",
    "                        material=Material(refractive_index=1.5),\n",
    "                    ),\n",
    "                    parent=world\n",
    "\n",
    "                )\n",
    "                sphere2.translate((x, y, z))\n",
    "    light = Node(\n",
    "    name=\"Light (555nm)\",\n",
    "    light=Light(direction=functools.partial(cone, np.pi/32)),\n",
    "    parent=world\n",
    ")\n",
    "    light.translate((0.0, 0.0, -7.95))\n",
    "    scene = Scene(world)\n",
    "\n",
    "    renderer = MeshcatRenderer(wireframe=True)\n",
    "    renderer.render(scene)\n",
    "    renderer.vis.jupyter_cell()\n",
    "\n",
    "    _ = interact_ray(scene, renderer)\n",
    "\n",
    "\n",
    "pv_sphere_test()"
   ]
  },
  {
   "cell_type": "code",
   "execution_count": 6,
   "metadata": {},
   "outputs": [],
   "source": []
  }
 ],
 "metadata": {
  "kernelspec": {
   "display_name": "Python 3 (ipykernel)",
   "language": "python",
   "name": "python3"
  },
  "language_info": {
   "codemirror_mode": {
    "name": "ipython",
    "version": 3
   },
   "file_extension": ".py",
   "mimetype": "text/x-python",
   "name": "python",
   "nbconvert_exporter": "python",
   "pygments_lexer": "ipython3",
   "version": "3.9.5"
  }
 },
 "nbformat": 4,
 "nbformat_minor": 1
}