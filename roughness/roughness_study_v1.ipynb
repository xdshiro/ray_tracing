{
 "cells": [
  {
   "cell_type": "code",
   "execution_count": 9,
   "metadata": {
    "collapsed": true
   },
   "outputs": [],
   "source": [
    "import matplotlib.pyplot as plt\n",
    "import numpy as np\n",
    "from plyfile import PlyData\n",
    "import open3d as o3d"
   ]
  },
  {
   "cell_type": "code",
   "execution_count": 2,
   "outputs": [],
   "source": [
    "surface2 = PlyData.read('Image0009.ply')\n",
    "vertices = surface2['vertex'].data\n",
    "faces = surface2['face'].data"
   ],
   "metadata": {
    "collapsed": false
   }
  },
  {
   "cell_type": "code",
   "execution_count": 3,
   "outputs": [
    {
     "data": {
      "text/plain": "PlyData((PlyElement('vertex', (PlyProperty('x', 'float'), PlyProperty('y', 'float'), PlyProperty('z', 'float')), count=65536, comments=[]), PlyElement('face', (PlyListProperty('vertex_index', 'uchar', 'int'),), count=130050, comments=[])), text=True, byte_order='=', comments=['exported from Gwyddion', 'title HeightRetrace'], obj_info=[])"
     },
     "execution_count": 3,
     "metadata": {},
     "output_type": "execute_result"
    }
   ],
   "source": [
    "surface2"
   ],
   "metadata": {
    "collapsed": false
   }
  },
  {
   "cell_type": "code",
   "execution_count": null,
   "outputs": [],
   "source": [],
   "metadata": {
    "collapsed": false
   }
  },
  {
   "cell_type": "code",
   "execution_count": 42,
   "outputs": [
    {
     "data": {
      "text/plain": "array([(  0.,   0., 26.882784), (  1.,   0., 27.028566),\n       (  2.,   0., 27.447363), ..., (253., 255., 13.016548),\n       (254., 255., 11.755153), (255., 255., 10.47204 )],\n      dtype=[('x', '<f4'), ('y', '<f4'), ('z', '<f4')])"
     },
     "execution_count": 42,
     "metadata": {},
     "output_type": "execute_result"
    }
   ],
   "source": [
    "vertices"
   ],
   "metadata": {
    "collapsed": false
   }
  },
  {
   "cell_type": "code",
   "execution_count": 5,
   "outputs": [
    {
     "data": {
      "text/plain": "array([(array([  0, 257, 256]),), (array([  0,   1, 257]),),\n       (array([  1, 258, 257]),), ..., (array([65277, 65278, 65534]),),\n       (array([65278, 65535, 65534]),), (array([65278, 65279, 65535]),)],\n      dtype=[('vertex_index', 'O')])"
     },
     "execution_count": 5,
     "metadata": {},
     "output_type": "execute_result"
    }
   ],
   "source": [
    "faces"
   ],
   "metadata": {
    "collapsed": false
   }
  },
  {
   "cell_type": "code",
   "execution_count": 10,
   "outputs": [],
   "source": [
    "pcd = o3d.io.read_point_cloud('Image0009.ply')\n",
    "o3d.visualization.draw_geometries([pcd])"
   ],
   "metadata": {
    "collapsed": false
   }
  },
  {
   "cell_type": "code",
   "execution_count": 11,
   "outputs": [],
   "source": [
    "def compute_normal(A, B, C):\n",
    "    AB = B - A\n",
    "    AC = C - A\n",
    "    N = np.cross(AB, AC)\n",
    "    return N / np.linalg.norm(N)  # Normalized normal"
   ],
   "metadata": {
    "collapsed": false
   }
  },
  {
   "cell_type": "code",
   "execution_count": 47,
   "outputs": [
    {
     "name": "stdout",
     "output_type": "stream",
     "text": [
      "[[    0   257   256]\n",
      " [    0     1   257]\n",
      " [    1   258   257]\n",
      " ...\n",
      " [65277 65278 65534]\n",
      " [65278 65535 65534]\n",
      " [65278 65279 65535]]\n"
     ]
    }
   ],
   "source": [
    "vertices_np = np.array(vertices.tolist())\n",
    "faces_np = np.array([face[0] for face in faces])\n",
    "A = vertices_np[faces_np[:, 0]]\n",
    "B = vertices_np[faces_np[:, 1]]\n",
    "C = vertices_np[faces_np[:, 2]]\n",
    "# Calculate edge vectors\n",
    "AB = B - A\n",
    "AC = C - A\n",
    "# Compute normals\n",
    "normals = np.cross(AB, AC)\n",
    "# Normalize the normals\n",
    "normals = normals / np.linalg.norm(normals, axis=1)[:, np.newaxis]"
   ],
   "metadata": {
    "collapsed": false
   }
  },
  {
   "cell_type": "code",
   "execution_count": 22,
   "outputs": [
    {
     "data": {
      "text/plain": "array([[-0.26106911,  0.489305  ,  0.8321199 ],\n       [-0.13320791,  0.38383194,  0.91374433],\n       [-0.39667893,  0.35550964,  0.8463207 ],\n       ...,\n       [ 0.80488174,  0.02952603,  0.59270026],\n       [ 0.78837944,  0.03060839,  0.61442736],\n       [ 0.82159479, -0.06699511,  0.56612159]])"
     },
     "execution_count": 22,
     "metadata": {},
     "output_type": "execute_result"
    }
   ],
   "source": [
    "normals"
   ],
   "metadata": {
    "collapsed": false
   }
  },
  {
   "cell_type": "code",
   "execution_count": 49,
   "outputs": [
    {
     "data": {
      "text/plain": "(-1.0, 81.0)"
     },
     "execution_count": 49,
     "metadata": {},
     "output_type": "execute_result"
    },
    {
     "data": {
      "text/plain": "<Figure size 432x288 with 1 Axes>",
      "image/png": "[encoded data removed]"
     },
     "metadata": {
      "needs_background": "light"
     },
     "output_type": "display_data"
    }
   ],
   "source": [
    "z_norm = np.array([0, 0, 1])\n",
    "dot_products = np.dot(normals, z_norm)\n",
    "cosine_angles = dot_products\n",
    "# Compute the angles using arccosine (result is in radians)\n",
    "angles_radians = np.arccos(np.clip(cosine_angles, -1.0, 1.0))\n",
    "# If you want the angles in degrees\n",
    "angles_degrees = np.degrees(angles_radians)\n",
    "\n",
    "plt.hist(angles_degrees, bins=100, edgecolor='black', alpha=0.7)\n",
    "plt.title('Angle Distribution')\n",
    "plt.xlabel('Angle (degrees)')\n",
    "plt.ylabel('Frequency')\n",
    "plt.grid(axis='y', linestyle='--')\n",
    "plt.xlim(-1, 81)"
   ],
   "metadata": {
    "collapsed": false
   }
  },
  {
   "cell_type": "code",
   "execution_count": 45,
   "outputs": [
    {
     "data": {
      "text/plain": "63.54817581176758"
     },
     "execution_count": 45,
     "metadata": {},
     "output_type": "execute_result"
    }
   ],
   "source": [
    "max(vertices_np[:, 2])"
   ],
   "metadata": {
    "collapsed": false
   }
  },
  {
   "cell_type": "code",
   "execution_count": 46,
   "outputs": [
    {
     "data": {
      "text/plain": "0.0"
     },
     "execution_count": 46,
     "metadata": {},
     "output_type": "execute_result"
    }
   ],
   "source": [
    "min(vertices_np[:, 2])\n"
   ],
   "metadata": {
    "collapsed": false
   }
  },
  {
   "cell_type": "code",
   "execution_count": null,
   "outputs": [],
   "source": [
    "surface_test = PlyData.read('Image0009.ply')\n",
    "vertices_test = surface2['vertex'].data"
   ],
   "metadata": {
    "collapsed": false
   }
  }
 ],
 "metadata": {
  "kernelspec": {
   "display_name": "Python 3",
   "language": "python",
   "name": "python3"
  },
  "language_info": {
   "codemirror_mode": {
    "name": "ipython",
    "version": 2
   },
   "file_extension": ".py",
   "mimetype": "text/x-python",
   "name": "python",
   "nbconvert_exporter": "python",
   "pygments_lexer": "ipython2",
   "version": "2.7.6"
  }
 },
 "nbformat": 4,
 "nbformat_minor": 0
}
