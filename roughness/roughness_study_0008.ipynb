{
 "cells": [
  {
   "cell_type": "code",
   "execution_count": 1,
   "metadata": {
    "collapsed": true
   },
   "outputs": [
    {
     "name": "stdout",
     "output_type": "stream",
     "text": [
      "Jupyter environment detected. Enabling Open3D WebVisualizer.\n",
      "[Open3D INFO] WebRTC GUI backend enabled.\n",
      "[Open3D INFO] WebRTCWindowSystem: HTTP handshake server disabled.\n"
     ]
    },
    {
     "name": "stderr",
     "output_type": "stream",
     "text": [
      "c:\\users\\cmex-\\appdata\\local\\programs\\python\\python39\\lib\\site-packages\\requests\\__init__.py:102: RequestsDependencyWarning: urllib3 (1.26.7) or chardet (5.0.0)/charset_normalizer (2.0.7) doesn't match a supported version!\n",
      "  warnings.warn(\"urllib3 ({}) or chardet ({})/charset_normalizer ({}) doesn't match a supported \"\n"
     ]
    }
   ],
   "source": [
    "import matplotlib.pyplot as plt\n",
    "import numpy as np\n",
    "from plyfile import PlyData\n",
    "import open3d as o3d"
   ]
  },
  {
   "cell_type": "code",
   "execution_count": 2,
   "outputs": [],
   "source": [
    "surface2 = PlyData.read('Image0008.ply')\n",
    "vertices = surface2['vertex'].data\n",
    "faces = surface2['face'].data"
   ],
   "metadata": {
    "collapsed": false
   }
  },
  {
   "cell_type": "code",
   "execution_count": 3,
   "outputs": [
    {
     "data": {
      "text/plain": "PlyData((PlyElement('vertex', (PlyProperty('x', 'float'), PlyProperty('y', 'float'), PlyProperty('z', 'float')), count=65536, comments=[]), PlyElement('face', (PlyListProperty('vertex_index', 'uchar', 'int'),), count=130050, comments=[])), text=True, byte_order='=', comments=['exported from Gwyddion', 'title HeightRetrace'], obj_info=[])"
     },
     "execution_count": 3,
     "metadata": {},
     "output_type": "execute_result"
    }
   ],
   "source": [
    "surface2"
   ],
   "metadata": {
    "collapsed": false
   }
  },
  {
   "cell_type": "code",
   "execution_count": 3,
   "outputs": [],
   "source": [],
   "metadata": {
    "collapsed": false
   }
  },
  {
   "cell_type": "code",
   "execution_count": 4,
   "outputs": [
    {
     "data": {
      "text/plain": "array([(  0.,   0., 11.630562), (  1.,   0., 11.472101),\n       (  2.,   0., 11.256812), ..., (253., 255.,  8.217291),\n       (254., 255.,  8.590614), (255., 255.,  9.010902)],\n      dtype=[('x', '<f4'), ('y', '<f4'), ('z', '<f4')])"
     },
     "execution_count": 4,
     "metadata": {},
     "output_type": "execute_result"
    }
   ],
   "source": [
    "vertices"
   ],
   "metadata": {
    "collapsed": false
   }
  },
  {
   "cell_type": "code",
   "execution_count": 5,
   "outputs": [
    {
     "data": {
      "text/plain": "array([(array([  0, 257, 256]),), (array([  0,   1, 257]),),\n       (array([  1, 258, 257]),), ..., (array([65277, 65278, 65534]),),\n       (array([65278, 65535, 65534]),), (array([65278, 65279, 65535]),)],\n      dtype=[('vertex_index', 'O')])"
     },
     "execution_count": 5,
     "metadata": {},
     "output_type": "execute_result"
    }
   ],
   "source": [
    "faces"
   ],
   "metadata": {
    "collapsed": false
   }
  },
  {
   "cell_type": "code",
   "execution_count": 14,
   "outputs": [],
   "source": [
    "pcd = o3d.io.read_point_cloud('Image0008.ply')\n",
    "o3d.visualization.draw_geometries([pcd])"
   ],
   "metadata": {
    "collapsed": false
   }
  },
  {
   "cell_type": "code",
   "execution_count": 7,
   "outputs": [],
   "source": [
    "def compute_normal(A, B, C):\n",
    "    AB = B - A\n",
    "    AC = C - A\n",
    "    N = np.cross(AB, AC)\n",
    "    return N / np.linalg.norm(N)  # Normalized normal"
   ],
   "metadata": {
    "collapsed": false
   }
  },
  {
   "cell_type": "code",
   "execution_count": 8,
   "outputs": [
    {
     "name": "stdout",
     "output_type": "stream",
     "text": [
      "[[    0   257   256]\n",
      " [    0     1   257]\n",
      " [    1   258   257]\n",
      " ...\n",
      " [65277 65278 65534]\n",
      " [65278 65535 65534]\n",
      " [65278 65279 65535]]\n"
     ]
    }
   ],
   "source": [
    "vertices_np = np.array(vertices.tolist())\n",
    "faces_np = np.array([face[0] for face in faces])\n",
    "A = vertices_np[faces_np[:, 0]]\n",
    "B = vertices_np[faces_np[:, 1]]\n",
    "C = vertices_np[faces_np[:, 2]]\n",
    "print(faces_np)\n",
    "# Calculate edge vectors\n",
    "AB = B - A\n",
    "AC = C - A\n",
    "# Compute normals\n",
    "normals = np.cross(AB, AC)\n",
    "# Normalize the normals\n",
    "normals = normals / np.linalg.norm(normals, axis=1)[:, np.newaxis]"
   ],
   "metadata": {
    "collapsed": false
   }
  },
  {
   "cell_type": "code",
   "execution_count": 9,
   "outputs": [
    {
     "data": {
      "text/plain": "array([[ 0.08574384, -0.09530592,  0.99174834],\n       [ 0.1543943 , -0.16378853,  0.97433861],\n       [ 0.12740383, -0.16442537,  0.97812707],\n       ...,\n       [-0.28746367,  0.3238447 ,  0.90138186],\n       [-0.36780858,  0.31441464,  0.87513444],\n       [-0.32685597,  0.27162779,  0.90519805]])"
     },
     "execution_count": 9,
     "metadata": {},
     "output_type": "execute_result"
    }
   ],
   "source": [
    "normals"
   ],
   "metadata": {
    "collapsed": false
   }
  },
  {
   "cell_type": "code",
   "execution_count": 24,
   "outputs": [
    {
     "data": {
      "text/plain": "(-1.0, 81.0)"
     },
     "execution_count": 24,
     "metadata": {},
     "output_type": "execute_result"
    },
    {
     "data": {
      "text/plain": "<Figure size 432x288 with 1 Axes>",
      "image/png": "[encoded data removed]"
     },
     "metadata": {
      "needs_background": "light"
     },
     "output_type": "display_data"
    }
   ],
   "source": [
    "z_norm = np.array([0, 0, 1])\n",
    "dot_products = np.dot(normals, z_norm)\n",
    "cosine_angles = dot_products\n",
    "# Compute the angles using arccosine (result is in radians)\n",
    "angles_radians = np.arccos(np.clip(cosine_angles, -1.0, 1.0))\n",
    "# If you want the angles in degrees\n",
    "angles_degrees = np.degrees(angles_radians)\n",
    "\n",
    "plt.hist(angles_degrees, bins=100, edgecolor='black', alpha=0.7)\n",
    "plt.title('Angle Distribution')\n",
    "plt.xlabel('Angle (degrees)')\n",
    "plt.ylabel('Frequency')\n",
    "plt.grid(axis='y', linestyle='--')\n",
    "plt.xlim(-1, 81)"
   ],
   "metadata": {
    "collapsed": false
   }
  },
  {
   "cell_type": "code",
   "execution_count": 11,
   "outputs": [
    {
     "data": {
      "text/plain": "13.90183162689209"
     },
     "execution_count": 11,
     "metadata": {},
     "output_type": "execute_result"
    }
   ],
   "source": [
    "max(vertices_np[:, 2])"
   ],
   "metadata": {
    "collapsed": false
   }
  },
  {
   "cell_type": "code",
   "execution_count": 12,
   "outputs": [
    {
     "data": {
      "text/plain": "0.0"
     },
     "execution_count": 12,
     "metadata": {},
     "output_type": "execute_result"
    }
   ],
   "source": [
    "min(vertices_np[:, 2])\n"
   ],
   "metadata": {
    "collapsed": false
   }
  },
  {
   "cell_type": "code",
   "execution_count": 18,
   "outputs": [
    {
     "name": "stdout",
     "output_type": "stream",
     "text": [
      "107.1383089592759\n"
     ]
    }
   ],
   "source": [
    "# surface_area\n",
    "areas = 0.5 * np.linalg.norm(np.cross(AB, AC), axis=1)\n",
    "total_surface_area = np.sum(areas)\n",
    "print(total_surface_area / 2.55e+07 / 2.55e+07 / 1e-12)"
   ],
   "metadata": {
    "collapsed": false
   }
  }
 ],
 "metadata": {
  "kernelspec": {
   "display_name": "Python 3",
   "language": "python",
   "name": "python3"
  },
  "language_info": {
   "codemirror_mode": {
    "name": "ipython",
    "version": 2
   },
   "file_extension": ".py",
   "mimetype": "text/x-python",
   "name": "python",
   "nbconvert_exporter": "python",
   "pygments_lexer": "ipython2",
   "version": "2.7.6"
  }
 },
 "nbformat": 4,
 "nbformat_minor": 0
}
